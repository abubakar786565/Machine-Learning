{
 "cells": [
  {
   "cell_type": "markdown",
   "id": "940a39d2",
   "metadata": {},
   "source": [
    "# Regression Matrics"
   ]
  },
  {
   "cell_type": "code",
   "execution_count": 58,
   "id": "f7302e2c",
   "metadata": {},
   "outputs": [
    {
     "name": "stdout",
     "output_type": "stream",
     "text": [
      "📉 MSE: 1.0724\n",
      "📈 R² Score: 0.1421\n",
      "📉 MAE: 0.8173\n"
     ]
    }
   ],
   "source": [
    "import pandas as pd\n",
    "import numpy as np\n",
    "import seaborn as sns\n",
    "from sklearn.model_selection import train_test_split\n",
    "from sklearn.linear_model import LinearRegression\n",
    "from sklearn.metrics import mean_squared_error, r2_score, mean_absolute_error\n",
    "from sklearn.preprocessing import PolynomialFeatures, StandardScaler\n",
    "\n",
    "# Load data\n",
    "df = sns.load_dataset(\"tips\")\n",
    "\n",
    "# Encode categorical variables\n",
    "df['sex'] = df['sex'].map({'Male': 0, 'Female': 1})\n",
    "df['smoker'] = df['smoker'].map({'No': 0, 'Yes': 1})\n",
    "df['day'] = df['day'].map({'Thur': 0, 'Fri': 1, 'Sat': 2, 'Sun': 3})\n",
    "df['time'] = df['time'].map({'Lunch': 0, 'Dinner': 1})\n",
    "\n",
    "# Feature and target\n",
    "X = df[[\"total_bill\", \"size\", \"sex\", \"smoker\", \"day\", \"time\"]]\n",
    "y = df[\"tip\"]\n",
    "\n",
    "# Polynomial transformation\n",
    "poly = PolynomialFeatures(degree=2, include_bias=False)\n",
    "X_poly = poly.fit_transform(X)\n",
    "\n",
    "# Standardization\n",
    "scaler = StandardScaler()\n",
    "X_poly_scaled = scaler.fit_transform(X_poly)\n",
    "\n",
    "# Train-test split\n",
    "X_train, X_test, y_train, y_test = train_test_split(X_poly_scaled, y, test_size=0.2, random_state=42)\n",
    "\n",
    "# Model training\n",
    "model = LinearRegression()\n",
    "model.fit(X_train, y_train)\n",
    "y_pred = model.predict(X_test)\n",
    "\n",
    "# Evaluation\n",
    "mse = mean_squared_error(y_test, y_pred)\n",
    "r2 = r2_score(y_test, y_pred)\n",
    "mae = mean_absolute_error(y_test, y_pred)\n",
    "\n",
    "# Results\n",
    "print(\"📉 MSE:\", round(mse, 4))\n",
    "print(\"📈 R² Score:\", round(r2, 4))\n",
    "print(\"📉 MAE:\", round(mae, 4))\n"
   ]
  }
 ],
 "metadata": {
  "kernelspec": {
   "display_name": "tf_env",
   "language": "python",
   "name": "tf_env"
  },
  "language_info": {
   "codemirror_mode": {
    "name": "ipython",
    "version": 3
   },
   "file_extension": ".py",
   "mimetype": "text/x-python",
   "name": "python",
   "nbconvert_exporter": "python",
   "pygments_lexer": "ipython3",
   "version": "3.10.18"
  }
 },
 "nbformat": 4,
 "nbformat_minor": 5
}
