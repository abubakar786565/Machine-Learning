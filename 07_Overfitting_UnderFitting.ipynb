{
 "cells": [
  {
   "cell_type": "markdown",
   "id": "8750c277",
   "metadata": {},
   "source": [
    "# Overfitting vs Underfitting in Machine Learning\n",
    "\n",
    "Understanding **overfitting** and **underfitting** is crucial for building accurate and generalizable machine learning models.\n",
    "\n",
    "---\n",
    "\n",
    "## 🔍 Definitions\n",
    "\n",
    "| Concept       | Description |\n",
    "|---------------|-------------|\n",
    "| **Overfitting** | When a model learns **too much from the training data**, including noise and outliers. It performs well on training data but poorly on unseen data. |\n",
    "| **Underfitting** | When a model is **too simple** to learn the underlying patterns of the data. It performs poorly on both training and test data. |\n",
    "\n",
    "---\n",
    "\n",
    "## 📊 Comparison Table\n",
    "\n",
    "| Feature              | Overfitting                        | Underfitting                       |\n",
    "|----------------------|------------------------------------|------------------------------------|\n",
    "| Model Complexity     | High                               | Low                                |\n",
    "| Training Accuracy    | High                               | Low                                |\n",
    "| Test Accuracy        | Low                                | Low                                |\n",
    "| Generalization       | Poor                               | Poor                               |\n",
    "| Cause                | Too many features or layers        | Too few features or oversimplified model |\n",
    "| Example              | Deep neural net on small dataset   | Linear regression on complex data  |\n",
    "\n",
    "---\n",
    "\n",
    "## 🔧 How to Fix\n",
    "\n",
    "### Overfitting\n",
    "- Use **regularization** (L1/L2)\n",
    "- Use **cross-validation**\n",
    "- **Reduce model complexity**\n",
    "- Use **more training data**\n",
    "- Apply **dropout** (in neural networks)\n",
    "\n",
    "### Underfitting\n",
    "- **Increase model complexity**\n",
    "- **Train longer**\n",
    "- Remove **regularization**\n",
    "- Use **better features**\n"
   ]
  }
 ],
 "metadata": {
  "language_info": {
   "name": "python"
  }
 },
 "nbformat": 4,
 "nbformat_minor": 5
}
