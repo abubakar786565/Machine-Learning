{
 "cells": [
  {
   "cell_type": "markdown",
   "id": "01da6ee5",
   "metadata": {},
   "source": [
    "# What is an Algoritham"
   ]
  },
  {
   "cell_type": "markdown",
   "id": "47ba5414",
   "metadata": {},
   "source": [
    "`Algoritham` is a set of rules or given instructions that give to `AI System` to help it learn from data.\n",
    "\n",
    "`E.g`:\\\n",
    "    A Decision Tree Algoritham use for Regression and Classification."
   ]
  }
 ],
 "metadata": {
  "language_info": {
   "name": "python"
  }
 },
 "nbformat": 4,
 "nbformat_minor": 5
}
