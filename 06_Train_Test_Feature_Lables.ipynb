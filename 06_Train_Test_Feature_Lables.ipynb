{
 "cells": [
  {
   "cell_type": "markdown",
   "id": "bd569458",
   "metadata": {},
   "source": [
    "# Training Data"
   ]
  },
  {
   "cell_type": "markdown",
   "id": "2b8040d2",
   "metadata": {},
   "source": [
    "The `dataset` used to train the `ML Model`. It is labled data for supervised learning.\n",
    "\n",
    "`e.g` A set of images of cat and dog, labled with the name of `Cat` and `Dog`"
   ]
  },
  {
   "cell_type": "markdown",
   "id": "dc1b86c8",
   "metadata": {},
   "source": [
    "# Test Data"
   ]
  },
  {
   "cell_type": "markdown",
   "id": "67ef958f",
   "metadata": {},
   "source": [
    "The `Data` use to evaluation the model, It's is unseen for model."
   ]
  },
  {
   "cell_type": "markdown",
   "id": "11250d2a",
   "metadata": {},
   "source": [
    "# Features"
   ]
  },
  {
   "cell_type": "markdown",
   "id": "dd8d9e94",
   "metadata": {},
   "source": [
    "`Features` also called `Input`"
   ]
  },
  {
   "cell_type": "markdown",
   "id": "6f581d7d",
   "metadata": {},
   "source": []
  }
 ],
 "metadata": {
  "language_info": {
   "name": "python"
  }
 },
 "nbformat": 4,
 "nbformat_minor": 5
}
