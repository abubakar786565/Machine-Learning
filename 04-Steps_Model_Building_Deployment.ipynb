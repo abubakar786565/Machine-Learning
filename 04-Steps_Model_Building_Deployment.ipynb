{
 "cells": [
  {
   "cell_type": "markdown",
   "id": "b43bbc55",
   "metadata": {},
   "source": [
    "# Model Building & deployment\n",
    "\n",
    "## Steps\n",
    "- Define Problem for which we want to make `AI App`\n",
    "- Data Collection\n",
    "- Data Preprocessing\n",
    "    - Data Cleaning\n",
    "    - Exploratory Data Analysis <--> Data Wrangling\n",
    "    - Feature Engineeing\n",
    "-  Model Selection\n",
    "    - Supervised Model\n",
    "        - Regression\n",
    "        - Classification\n",
    "    - Unsupervised Nodel\n",
    "        - Clustering\n",
    "- Spliting the Data\n",
    "    - X\n",
    "    - y\n",
    "- Evaluation\n",
    "- Model Fine Tuning (Hyper Parameter Tuing )\n",
    "- Cross Validation\n",
    "    - Data ko Different parts ma divide kr lain\n",
    "- Model Deployment\n",
    "    - MLOps\n"
   ]
  }
 ],
 "metadata": {
  "kernelspec": {
   "display_name": "tf_env",
   "language": "python",
   "name": "tf_env"
  },
  "language_info": {
   "name": "python",
   "version": "3.10.18"
  }
 },
 "nbformat": 4,
 "nbformat_minor": 5
}
